{
 "cells": [
  {
   "cell_type": "code",
   "execution_count": 1,
   "metadata": {},
   "outputs": [],
   "source": [
    "import xml.etree.ElementTree as ET\n",
    "import pandas as pd\n",
    "import requests\n",
    "import os"
   ]
  },
  {
   "cell_type": "code",
   "execution_count": 2,
   "metadata": {},
   "outputs": [],
   "source": [
    "year_2020 = year_2020 = requests.get('https://api.parliament.nsw.gov.au/api/hansard/search/year/2020')\n",
    "#extract all dates and doc_id for this year\n",
    "date = []\n",
    "doc_id = []\n",
    "p = 0\n",
    "while p < len(year_2020.json()):\n",
    "    date.append(year_2020.json()[p]['date'])\n",
    "    doc_id.append(year_2020.json()[p]['Events'][0]['PdfDocId'])\n",
    "    p += 1"
   ]
  },
  {
   "cell_type": "code",
   "execution_count": 4,
   "metadata": {},
   "outputs": [],
   "source": [
    "#find None responses in doc_id list and remove from both lists\n",
    "l = [i for i, v in enumerate(doc_id) if v == None]\n",
    "for x in l:\n",
    "    del date[x]\n",
    "    del doc_id[x]"
   ]
  },
  {
   "cell_type": "code",
   "execution_count": 5,
   "metadata": {},
   "outputs": [
    {
     "name": "stdout",
     "output_type": "stream",
     "text": [
      "NSW_HANSARD_2020-06-18.pdf already exists in directory\n",
      "NSW_HANSARD_2020-06-17.pdf already exists in directory\n",
      "NSW_HANSARD_2020-06-16.pdf already exists in directory\n",
      "NSW_HANSARD_2020-06-04.pdf already exists in directory\n",
      "NSW_HANSARD_2020-06-03.pdf already exists in directory\n",
      "NSW_HANSARD_2020-06-02.pdf already exists in directory\n",
      "NSW_HANSARD_2020-05-23.pdf already exists in directory\n",
      "NSW_HANSARD_2020-05-12.pdf already exists in directory\n",
      "NSW_HANSARD_2020-03-24.pdf already exists in directory\n",
      "NSW_HANSARD_2020-03-05.pdf already exists in directory\n",
      "NSW_HANSARD_2020-03-04.pdf already exists in directory\n",
      "NSW_HANSARD_2020-03-03.pdf already exists in directory\n",
      "NSW_HANSARD_2020-02-27.pdf already exists in directory\n",
      "NSW_HANSARD_2020-02-26.pdf already exists in directory\n",
      "NSW_HANSARD_2020-02-25.pdf already exists in directory\n",
      "NSW_HANSARD_2020-02-06.pdf already exists in directory\n",
      "NSW_HANSARD_2020-02-05.pdf already exists in directory\n",
      "NSW_HANSARD_2020-02-04.pdf already exists in directory\n"
     ]
    }
   ],
   "source": [
    "#download hansards\n",
    "x = 0\n",
    "while x < len(doc_id):\n",
    "    if not os.path.exists(fr'C:\\Users\\Jarrod\\Downloads\\Hansards\\NSW_HANSARD_{date[x]}.pdf'):\n",
    "        print(f'NSW_HANSARD_{date[x]}.pdf already exists in directory')\n",
    "    else:\n",
    "        doc = requests.get(f\"https://api.parliament.nsw.gov.au/api/hansard/search/daily/pdf/{doc_id[x]}\")\n",
    "        with open(fr\"C:\\Users\\Jarrod\\Downloads\\Hansards\\NSW_HANSARD_{date[x]}.pdf\", 'wb') as f:\n",
    "            f.write(doc.content)\n",
    "    x += 1"
   ]
  },
  {
   "cell_type": "code",
   "execution_count": 14,
   "metadata": {},
   "outputs": [
    {
     "name": "stdout",
     "output_type": "stream",
     "text": [
      "Absence of the President: HANSARD-1820781676-82696\n",
      "Tallawarra Power Station: HANSARD-1820781676-82697\n",
      "Covid-19 and Cleaners: HANSARD-1820781676-82698\n",
      "William Blake: HANSARD-1820781676-82699\n",
      "Presentation: HANSARD-1820781676-82700\n",
      "Postponement of Business: HANSARD-1820781676-82701\n",
      "Suspension of Standing and Sessional Orders: Order of Business: HANSARD-1820781676-82702\n",
      "Order of Business: HANSARD-1820781676-82703\n",
      "The Hon. Dominic Perrottet and Icare: HANSARD-1820781676-82704\n",
      "Casino Control Amendment (Inquiries) Bill 2020: HANSARD-1820781676-82705\n",
      "Covid-19 and Manufacturing Industry: HANSARD-1820781676-82709\n",
      "Covid-19 Recovery Assistance: HANSARD-1820781676-82710\n",
      "Child Pornography: HANSARD-1820781676-82711\n",
      "Animal Welfare: HANSARD-1820781676-82712\n",
      "Student Disability Services: HANSARD-1820781676-82713\n",
      "Student Behaviour Strategy: HANSARD-1820781676-82714\n",
      "Child Pornography: HANSARD-1820781676-82715\n",
      "Visitors: HANSARD-1820781676-82716\n",
      "Rural and Regional Mental Health Services: HANSARD-1820781676-82717\n",
      "Manning Base Hospital: HANSARD-1820781676-82718\n",
      "Student Behaviour Strategy: HANSARD-1820781676-82719\n",
      "Young Country Universities Centre: HANSARD-1820781676-82719\n",
      "Small Business Recovery Grant: HANSARD-1820781676-82720\n",
      "Protected Animals Register: HANSARD-1820781676-82721\n",
      "Student Behaviour Strategy: HANSARD-1820781676-82722\n",
      "Youth Unemployment: HANSARD-1820781676-82722\n",
      "Student Behaviour Strategy: HANSARD-1820781676-82723\n",
      "Electric Vehicles: HANSARD-1820781676-82724\n",
      "Small Business Recovery Grant: HANSARD-1820781676-82725\n",
      "Take Note of Answers to Questions: HANSARD-1820781676-82726\n",
      "Child Pornography: HANSARD-1820781676-82727\n",
      "Student Behaviour Strategy: HANSARD-1820781676-82728\n",
      "Small Business Recovery Grant: HANSARD-1820781676-82729\n",
      "Student Behaviour Strategy: HANSARD-1820781676-82730\n",
      "Youth Unemployment: HANSARD-1820781676-82730\n",
      "Electric Vehicles: HANSARD-1820781676-82731\n",
      "Covid-19 Recovery Assistance: HANSARD-1820781676-82732\n",
      "Student Behaviour Strategy: HANSARD-1820781676-82733\n",
      "Young Country Universities Centre: HANSARD-1820781676-82733\n",
      "Student Behaviour Strategy: HANSARD-1820781676-82734\n",
      "Young Country Universities Centre: HANSARD-1820781676-82734\n",
      "Small Business Recovery Grant: HANSARD-1820781676-82735\n",
      "Student Disability Services: HANSARD-1820781676-82736\n",
      "Small Business Recovery Grant: HANSARD-1820781676-82737\n",
      "Take Note of Answers to Questions: HANSARD-1820781676-82738\n",
      "Covid-19 and International Students: HANSARD-1820781676-82739\n",
      "Central Station Covid-19 Testing Clinic: HANSARD-1820781676-82740\n",
      "Unflued Gas Heaters: HANSARD-1820781676-82741\n",
      "School Counselling Service: HANSARD-1820781676-82742\n",
      "Independent Commission Against Corruption: HANSARD-1820781676-82743\n",
      "Portfolio Committee No. 2 - Health: HANSARD-1820781676-82744\n",
      "Portfolio Committee No. 4 - Industry: HANSARD-1820781676-82745\n",
      "Casino Control Amendment (Inquiries) Bill 2020: HANSARD-1820781676-82746\n",
      "Suspension of Standing and Sessional Orders: Bills: HANSARD-1820781676-82747\n",
      "Suspension of Standing and Sessional Orders: Order of Business: HANSARD-1820781676-82748\n",
      "Better Regulation Legislation Amendment Bill 2020: HANSARD-1820781676-82749\n",
      "Suspension of Standing and Sessional Orders: HANSARD-1820781676-82750\n",
      "Better Regulation Legislation Amendment Bill 2020: HANSARD-1820781676-82751\n",
      "Suspension of Standing and Sessional Orders: Order of Business: HANSARD-1820781676-82752\n",
      "Wages Policy Taskforce: HANSARD-1820781676-82753\n",
      "Floodplain Harvesting: HANSARD-1820781676-82754\n",
      "Adjournment: HANSARD-1820781676-82755\n",
      "Religious Freedom: HANSARD-1820781676-82756\n",
      "Electronic Voting: HANSARD-1820781676-82757\n",
      "Public Spaces: HANSARD-1820781676-82758\n",
      "Greyhound Racing Industry: HANSARD-1820781676-82759\n",
      "Cumberland City Council: HANSARD-1820781676-82760\n",
      "Tribute to Peter Jackson: HANSARD-1820781676-82761\n"
     ]
    }
   ],
   "source": [
    "#EXTRACTING HANSARD BY DATE AND GETTING CONTENTS OF DOCUMENT\n",
    "doc = requests.get(\"https://api.parliament.nsw.gov.au/api/hansard/search/bydate?date=2020-08-27\")\n",
    "w = 0\n",
    "while w < len(doc.json()['data'][0]['Details']):\n",
    "    doc_name = doc.json()['data'][0]['Details'][w]['Text']\n",
    "    doc_id = doc.json()['data'][0]['Details'][w]['DocumentId']\n",
    "    print(\"{0}: {1}\".format(doc_name, doc_id))\n",
    "    w += 1"
   ]
  },
  {
   "cell_type": "code",
   "execution_count": 15,
   "metadata": {},
   "outputs": [],
   "source": [
    "#EXTRACTING HANSARD FRAGMENTS\n",
    "test1 = requests.get(\"https://api.parliament.nsw.gov.au/api/hansard/search/daily/fragment/HANSARD-1820781676-82756\")\n",
    "root = ET.fromstring(test1.text)"
   ]
  },
  {
   "cell_type": "code",
   "execution_count": 16,
   "metadata": {},
   "outputs": [
    {
     "data": {
      "text/plain": [
       "['hansard',\n",
       " 'hansard.header',\n",
       " 'date',\n",
       " 'parliament.number',\n",
       " 'session.number',\n",
       " 'parliament.session.name',\n",
       " 'chamber',\n",
       " 'draft',\n",
       " 'chamber.xscript',\n",
       " 'fragment.data',\n",
       " 'proceeding',\n",
       " 'proceedinginfo',\n",
       " 'text',\n",
       " 'topic',\n",
       " 'topicinfo',\n",
       " 'text',\n",
       " 'speech',\n",
       " 'talk.start',\n",
       " 'talker',\n",
       " 'talk.time',\n",
       " 'id',\n",
       " 'name',\n",
       " 'electorate',\n",
       " 'portfolios',\n",
       " 'question.number',\n",
       " 'question.date',\n",
       " 'fragment.text',\n",
       " 'body',\n",
       " '{http://www.w3.org/1999/xhtml}p',\n",
       " '{http://www.w3.org/1999/xhtml}span',\n",
       " '{http://www.w3.org/1999/xhtml}p',\n",
       " '{http://www.w3.org/1999/xhtml}span',\n",
       " '{http://www.w3.org/1999/xhtml}span',\n",
       " '{http://www.w3.org/1999/xhtml}span',\n",
       " '{http://www.w3.org/1999/xhtml}span',\n",
       " '{http://www.w3.org/1999/xhtml}span',\n",
       " '{http://www.w3.org/1999/xhtml}p',\n",
       " '{http://www.w3.org/1999/xhtml}span',\n",
       " '{http://www.w3.org/1999/xhtml}p',\n",
       " '{http://www.w3.org/1999/xhtml}span',\n",
       " '{http://www.w3.org/1999/xhtml}p',\n",
       " '{http://www.w3.org/1999/xhtml}span',\n",
       " '{http://www.w3.org/1999/xhtml}p',\n",
       " '{http://www.w3.org/1999/xhtml}span',\n",
       " '{http://www.w3.org/1999/xhtml}span']"
      ]
     },
     "execution_count": 16,
     "metadata": {},
     "output_type": "execute_result"
    }
   ],
   "source": [
    "#See all tags/elements in the hansard\n",
    "[elem.tag for elem in root.iter()]"
   ]
  },
  {
   "cell_type": "code",
   "execution_count": 17,
   "metadata": {
    "scrolled": true
   },
   "outputs": [
    {
     "name": "stdout",
     "output_type": "stream",
     "text": [
      "Reverend the Hon. FRED NILE\n"
     ]
    }
   ],
   "source": [
    "#Print speaker name\n",
    "names = []\n",
    "for name in root.iter('name'):\n",
    "    names.append(name.text)\n",
    "    print(name.text)"
   ]
  },
  {
   "cell_type": "code",
   "execution_count": 49,
   "metadata": {},
   "outputs": [
    {
     "name": "stdout",
     "output_type": "stream",
     "text": [
      "88    Christian Democratic Party (Fred Nile Group)\n",
      "Name: PARTY, dtype: object\n"
     ]
    }
   ],
   "source": [
    "#ALL MEMBERS OF PARLIAMENT\n",
    "df = pd.read_csv(r'C:\\Users\\Jarrod\\Downloads\\Members of the Both.csv')\n",
    "#match a speakers name with the spreadsheetcsv(r'C:\\Users\\Jarrod\\Downloads\\Members of the Both.csv')\n",
    "party = df[df['SURNAME'].str.contains(names[0].split()[-1].title())]['PARTY']\n",
    "print(party)"
   ]
  },
  {
   "cell_type": "code",
   "execution_count": 27,
   "metadata": {},
   "outputs": [
    {
     "name": "stdout",
     "output_type": "stream",
     "text": [
      "Title: Religious Freedom\n",
      "Speaker: Reverend the Hon. FRED NILE\n",
      "Speech:[\"We are now witnessing a new kind of conflict in which anyone of religious conviction is mocked, ridiculed and discriminated against, even taken to court or sacked from their position. It is a travesty that there are no laws, as far as we can understand, to defend religious convictions in the same way that other identity groups are protected under the law, such as the laws that prohibit discrimination against homosexuals, for example. They are protected by law and for that reason a few years ago I introduced my religious freedom bill, copies of which are still available from my office. I am also co-sponsoring the Hon. Mark Latham's Anti-Discrimination Amendment (Religious Freedoms and Equality) Bill 2020, which is currently before the House. \", 'Without any such laws, the rights of such people will be further disregarded in the public sphere as well as in government policy. Yesterday I made a brief comment about the unfortunate fact that Australia will likely be using the Oxford University-trialled vaccine manufactured by AstraZeneca, which uses genetic material taken from the kidney of an electively aborted baby girl. ', 'The use of this vaccine therefore poses an insurmountable issue of conscience for people of faith. The Orthodox news agency Neos Kosmos reports that the issue has galvanised Christian leaders across different denominations, including Orthodox Archbishop Makarios, Anglican Archbishop Glenn Davies and Catholic Archbishop Anthony Fisher. They have all expressed significant reservations about the use of vaccines derived from human genetic material, because their use effectively would make the vaccinated party complicit in an act that is contrary to their faith. This is yet another issue that touches upon the need for religious liberties to be protected in legislation. The Prime Minister made some comments during a radio interview on 19 August, in which he was quoted as saying the vaccine, once it was ready, should be made \"as mandatory as possible\". Whilst he has recently stated his comments were misinterpreted, understandably his words have only amplified community concerns.', \"The community has reason to be concerned. If the vaccine is on the horizon and needs to be taken regularly due to the virus's capacity to mutate, then what will be the impact on basic civil liberties in New South Wales? It is not enough to say that the controversial vaccine is voluntary while, for example, making public facilities or the ability to travel contingent on having had the vaccine injection. If exercising one's freedom—in this case, opting out of getting a vaccine that violates one's conscience—means that your ability to engage with society is severely restricted, then you do not have freedom. I have recently written to the Prime Minister, Mr Morrison, asking him to consider holding a nationwide inquiry into these and related issues. I believe this requires a national approach because it is a national issue. [\", 'Time expired.']\n"
     ]
    }
   ],
   "source": [
    "#Print content\n",
    "text = []\n",
    "for span in root.iter('{http://www.w3.org/1999/xhtml}span'):\n",
    "    text.append(span.text)\n",
    "print(\"Title: {0}\\nSpeaker: {1}\\nSpeech:{2}\".format(text[0], text[2], text[6:]))"
   ]
  },
  {
   "cell_type": "markdown",
   "metadata": {},
   "source": [
    "An attempt to pull data from a spreadsheet of all parliament members so that information (such as party and elecorate) can be added to speech data. "
   ]
  },
  {
   "cell_type": "code",
   "execution_count": 54,
   "metadata": {
    "scrolled": false
   },
   "outputs": [
    {
     "name": "stdout",
     "output_type": "stream",
     "text": [
      "Title: Religious Freedom\n",
      "Speaker: Reverend the Hon. FRED NILE (Christian Democratic Party (Fred Nile Group))\n",
      "Speech:[\"We are now witnessing a new kind of conflict in which anyone of religious conviction is mocked, ridiculed and discriminated against, even taken to court or sacked from their position. It is a travesty that there are no laws, as far as we can understand, to defend religious convictions in the same way that other identity groups are protected under the law, such as the laws that prohibit discrimination against homosexuals, for example. They are protected by law and for that reason a few years ago I introduced my religious freedom bill, copies of which are still available from my office. I am also co-sponsoring the Hon. Mark Latham's Anti-Discrimination Amendment (Religious Freedoms and Equality) Bill 2020, which is currently before the House. \", 'Without any such laws, the rights of such people will be further disregarded in the public sphere as well as in government policy. Yesterday I made a brief comment about the unfortunate fact that Australia will likely be using the Oxford University-trialled vaccine manufactured by AstraZeneca, which uses genetic material taken from the kidney of an electively aborted baby girl. ', 'The use of this vaccine therefore poses an insurmountable issue of conscience for people of faith. The Orthodox news agency Neos Kosmos reports that the issue has galvanised Christian leaders across different denominations, including Orthodox Archbishop Makarios, Anglican Archbishop Glenn Davies and Catholic Archbishop Anthony Fisher. They have all expressed significant reservations about the use of vaccines derived from human genetic material, because their use effectively would make the vaccinated party complicit in an act that is contrary to their faith. This is yet another issue that touches upon the need for religious liberties to be protected in legislation. The Prime Minister made some comments during a radio interview on 19 August, in which he was quoted as saying the vaccine, once it was ready, should be made \"as mandatory as possible\". Whilst he has recently stated his comments were misinterpreted, understandably his words have only amplified community concerns.', \"The community has reason to be concerned. If the vaccine is on the horizon and needs to be taken regularly due to the virus's capacity to mutate, then what will be the impact on basic civil liberties in New South Wales? It is not enough to say that the controversial vaccine is voluntary while, for example, making public facilities or the ability to travel contingent on having had the vaccine injection. If exercising one's freedom—in this case, opting out of getting a vaccine that violates one's conscience—means that your ability to engage with society is severely restricted, then you do not have freedom. I have recently written to the Prime Minister, Mr Morrison, asking him to consider holding a nationwide inquiry into these and related issues. I believe this requires a national approach because it is a national issue. [\", 'Time expired.']\n"
     ]
    }
   ],
   "source": [
    "#Print content\n",
    "text = []\n",
    "for span in root.iter('{http://www.w3.org/1999/xhtml}span'):\n",
    "    text.append(span.text)\n",
    "#Converting 'party' to a list and extracting first item in list\n",
    "#Seems stupid?\n",
    "print(\"Title: {0}\\nSpeaker: {1} ({2})\\nSpeech:{3}\".format(text[0], text[2], list(party)[0], text[6:]))"
   ]
  },
  {
   "cell_type": "code",
   "execution_count": null,
   "metadata": {},
   "outputs": [],
   "source": []
  }
 ],
 "metadata": {
  "kernelspec": {
   "display_name": "Python 3",
   "language": "python",
   "name": "python3"
  },
  "language_info": {
   "codemirror_mode": {
    "name": "ipython",
    "version": 3
   },
   "file_extension": ".py",
   "mimetype": "text/x-python",
   "name": "python",
   "nbconvert_exporter": "python",
   "pygments_lexer": "ipython3",
   "version": "3.7.3"
  }
 },
 "nbformat": 4,
 "nbformat_minor": 2
}
